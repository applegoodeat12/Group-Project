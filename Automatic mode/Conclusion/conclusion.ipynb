{
 "cells": [
  {
   "attachments": {},
   "cell_type": "markdown",
   "metadata": {},
   "source": [
    "# Conclusion\n",
    "\n"
   ]
  },
  {
   "attachments": {},
   "cell_type": "markdown",
   "metadata": {},
   "source": [
    "### Details for whole procedure\n",
    "\n",
    "For this part, we should control the jetbot remotely from the PC. We initially tried the control buttons on Screen. Unfortunately, the effect is very unsatisfactory. Since each click of the button can only make the jetbot move a fixed distance or rotate a fixed angle, this does not make the jetbot turn well in the curve. In addition, this method has a large delay. If different commands are sent multiple times in a short period of time, the jetbot will still execute the command a few seconds ago and the new command will be delayed. After a brief test we find that it would be very difficult to complete the 3 laps without any problems with this kind of operation. So, we finally decide to use game controller to control the jetbot.\n",
    "\n",
    "\n",
    "Using the game controller to control the jetbot movement is satisfactory. The delay of jetbot receiving command is very small, and we can flexibly control the speed and steering of jetbot. But the disadvantage of the game controller is that the two joysticks correspond to the left and right wheels of the jetbot. We need to operate two joysticks at the same time to control the jetbot to move forward, we are not familiar with this control method, it will take some time to practice. We tried to modify the code to simplify the operation, but we found that we can only use the keys of two joysticks, other keys will only cause the code to report errors or cannot control the jetbot. After getting familiar with the use of the game controller and the track route, we can complete a lap in only 25 to 30 seconds.\n"
   ]
  },
  {
   "attachments": {},
   "cell_type": "markdown",
   "metadata": {},
   "source": [
    "### Results and findings\n",
    "\n",
    "Our strategy for this competition is to keep the time as short as possible with the ultimate operation by using game controller. In the end we did win the first place with an ideal operation. Our best time is 1 minute and 9 seconds for 3 laps when in the test. The time on competition day is about 1 minute and 35 seconds. If there is a chance to modify, I will reduce the sensitivity of the game controller and spend more time practicing and familiarizing with the track. I am very confident that we can control the time to less than 1 minute.\n"
   ]
  }
 ],
 "metadata": {
  "kernelspec": {
   "display_name": "Python 3",
   "language": "python",
   "name": "python3"
  },
  "language_info": {
   "codemirror_mode": {
    "name": "ipython",
    "version": 3
   },
   "file_extension": ".py",
   "mimetype": "text/x-python",
   "name": "python",
   "nbconvert_exporter": "python",
   "pygments_lexer": "ipython3",
   "version": "3.6.9"
  }
 },
 "nbformat": 4,
 "nbformat_minor": 4
}
