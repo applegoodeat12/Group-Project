{
 "cells": [
  {
   "attachments": {},
   "cell_type": "markdown",
   "metadata": {},
   "source": [
    "# Conclusion\n",
    "\n"
   ]
  },
  {
   "attachments": {},
   "cell_type": "markdown",
   "metadata": {},
   "source": [
    "### Details for whole procedure\n",
    "\n",
    "The part does not go well is that we originally planned to download anaconda to train jetbot, but found that after opening jupyterlab with anaconda, the code always reported an error. We tried to solve the problem and completed all the libraries required by the GPU, but it does not work. In the end, we had no choice but to train on the jetbot machine and use ice packs to cool down.\n",
    "\n",
    "At first we took about 394 photos for data collection, but the result was not satisfactory. The jetbot was unable to follow the track at certain corners. We optimize the model on Jetson Nano can not solve these problems. We think that the number of photos we took is not enough, resulting in a large error between the jetbot training route and the actual route. So we finally took 884 photos to get a more accurate route for jetbot. The final test result is about 1 minute and 5 seconds per lap. This result is better. When we optimize the model, we found that the increase of speed gain needs to reduce the steering gian to ensure that the jetbot goes as straight as possible. Steering kd and steering bias are used to correct the error of jetbot steering. Our final results are: speed gain: 0.18, steering gian:0.05, steering kd:0.00, steering bias:0.01.\n"
   ]
  },
  {
   "attachments": {},
   "cell_type": "markdown",
   "metadata": {},
   "source": [
    "### Results and findings.\n",
    "\n",
    "Our strategy for the second part of the competition is to reduce the error of jetbot demo by taking as many photos as possible and enhance the model on Jetson Nano. Although our jetbot drove off the track once in the end, the result is still acceptable. If there is a next opportunity, we will take more photos and optimize the code. In this way, the speed gain and accuracy can be improved, therefore shortening the time."
   ]
  }
 ],
 "metadata": {
  "kernelspec": {
   "display_name": "Python 3",
   "language": "python",
   "name": "python3"
  },
  "language_info": {
   "codemirror_mode": {
    "name": "ipython",
    "version": 3
   },
   "file_extension": ".py",
   "mimetype": "text/x-python",
   "name": "python",
   "nbconvert_exporter": "python",
   "pygments_lexer": "ipython3",
   "version": "3.6.9"
  }
 },
 "nbformat": 4,
 "nbformat_minor": 4
}
