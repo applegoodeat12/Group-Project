{
 "cells": [
  {
   "cell_type": "code",
   "execution_count": 1,
   "id": "sustainable-avenue",
   "metadata": {},
   "outputs": [],
   "source": [
    "import torch\n",
    "import torch.optim as optim\n",
    "import torch.nn.functional as F\n",
    "import torchvision\n",
    "import torchvision.datasets as datasets\n",
    "import torchvision.models as models\n",
    "import torchvision.transforms as transforms\n",
    "import glob\n",
    "import PIL.Image\n",
    "import os\n",
    "import numpy as np"
   ]
  },
  {
   "cell_type": "code",
   "execution_count": 2,
   "id": "healthy-indicator",
   "metadata": {},
   "outputs": [
    {
     "name": "stdout",
     "output_type": "stream",
     "text": [
      "unzip:  cannot find or open road_following.zip, road_following.zip.zip or road_following.zip.ZIP.\n"
     ]
    }
   ],
   "source": [
    "!unzip -q road_following.zip"
   ]
  },
  {
   "cell_type": "code",
   "execution_count": 3,
   "id": "fitted-official",
   "metadata": {},
   "outputs": [],
   "source": [
    "def get_x(path, width):\n",
    "    \"\"\"Gets the x value from the image filename\"\"\"\n",
    "    return (float(int(path.split(\"_\")[1])) - width/2) / (width/2)\n",
    "\n",
    "def get_y(path, height):\n",
    "    \"\"\"Gets the y value from the image filename\"\"\"\n",
    "    return (float(int(path.split(\"_\")[2])) - height/2) / (height/2)\n",
    "\n",
    "class XYDataset(torch.utils.data.Dataset):\n",
    "    \n",
    "    def __init__(self, directory, random_hflips=False):\n",
    "        self.directory = directory\n",
    "        self.random_hflips = random_hflips\n",
    "        self.image_paths = glob.glob(os.path.join(self.directory, '*.jpg'))\n",
    "        self.color_jitter = transforms.ColorJitter(0.3, 0.3, 0.3, 0.3)\n",
    "    \n",
    "    def __len__(self):\n",
    "        return len(self.image_paths)\n",
    "    \n",
    "    def __getitem__(self, idx):\n",
    "        image_path = self.image_paths[idx]\n",
    "        \n",
    "        image = PIL.Image.open(image_path)\n",
    "        width, height = image.size\n",
    "        x = float(get_x(os.path.basename(image_path), width))\n",
    "        y = float(get_y(os.path.basename(image_path), height))\n",
    "      \n",
    "        if float(np.random.rand(1)) > 0.5:\n",
    "            image = transforms.functional.hflip(image)\n",
    "            x = -x\n",
    "        \n",
    "        image = self.color_jitter(image)\n",
    "        image = transforms.functional.resize(image, (224, 224))\n",
    "        image = transforms.functional.to_tensor(image)\n",
    "        image = image.numpy()[::-1].copy()\n",
    "        image = torch.from_numpy(image)\n",
    "        image = transforms.functional.normalize(image, [0.485, 0.456, 0.406], [0.229, 0.224, 0.225])\n",
    "        \n",
    "        return image, torch.tensor([x, y]).float()\n",
    "    \n",
    "dataset = XYDataset('dataset_xy', random_hflips=False)"
   ]
  },
  {
   "cell_type": "code",
   "execution_count": 4,
   "id": "moved-index",
   "metadata": {},
   "outputs": [],
   "source": [
    "test_percent = 0.1\n",
    "num_test = int(test_percent * len(dataset))\n",
    "train_dataset, test_dataset = torch.utils.data.random_split(dataset, [len(dataset) - num_test, num_test])\n"
   ]
  },
  {
   "cell_type": "code",
   "execution_count": 5,
   "id": "prompt-belle",
   "metadata": {},
   "outputs": [],
   "source": [
    "train_loader = torch.utils.data.DataLoader(\n",
    "    train_dataset,\n",
    "    batch_size=8,\n",
    "    shuffle=True,\n",
    "    num_workers=0\n",
    ")\n",
    "\n",
    "test_loader = torch.utils.data.DataLoader(\n",
    "    test_dataset,\n",
    "    batch_size=8,\n",
    "    shuffle=True,\n",
    "    num_workers=0\n",
    ")\n"
   ]
  },
  {
   "cell_type": "code",
   "execution_count": 6,
   "id": "floral-gender",
   "metadata": {},
   "outputs": [],
   "source": [
    "model = models.resnet18(pretrained=True)\n"
   ]
  },
  {
   "cell_type": "code",
   "execution_count": 7,
   "id": "psychological-chess",
   "metadata": {},
   "outputs": [],
   "source": [
    "model.fc = torch.nn.Linear(512, 2)\n",
    "device = torch.device('cuda')\n",
    "model = model.to(device)\n"
   ]
  },
  {
   "cell_type": "code",
   "execution_count": 8,
   "id": "pharmaceutical-stone",
   "metadata": {},
   "outputs": [
    {
     "name": "stdout",
     "output_type": "stream",
     "text": [
      "0.247869, 0.061583\n",
      "0.072520, 0.078611\n",
      "0.063906, 0.079923\n",
      "0.058458, 0.060082\n",
      "0.055934, 0.063976\n",
      "0.055157, 0.056687\n",
      "0.053431, 0.058502\n",
      "0.056132, 0.074875\n",
      "0.051761, 0.060796\n",
      "0.050259, 0.065550\n",
      "0.053036, 0.060069\n",
      "0.052456, 0.054292\n",
      "0.047835, 0.058006\n",
      "0.050047, 0.063217\n",
      "0.050945, 0.063747\n",
      "0.047598, 0.050647\n",
      "0.047410, 0.058767\n",
      "0.045359, 0.067368\n",
      "0.045736, 0.057413\n",
      "0.049154, 0.066051\n",
      "0.044917, 0.060518\n",
      "0.044433, 0.058444\n",
      "0.054326, 0.076311\n",
      "0.045054, 0.066739\n",
      "0.044774, 0.056263\n",
      "0.046714, 0.060162\n",
      "0.044487, 0.073879\n",
      "0.044863, 0.060367\n",
      "0.046825, 0.054272\n",
      "0.045450, 0.058273\n",
      "0.043699, 0.091336\n",
      "0.045975, 0.060958\n",
      "0.044559, 0.057366\n",
      "0.043945, 0.057378\n",
      "0.047568, 0.075913\n",
      "0.045418, 0.058375\n",
      "0.043373, 0.062183\n",
      "0.043581, 0.060930\n",
      "0.046549, 0.064790\n",
      "0.045832, 0.065038\n",
      "0.042287, 0.060322\n",
      "0.043204, 0.057852\n",
      "0.044872, 0.073989\n",
      "0.044311, 0.065932\n",
      "0.044104, 0.063349\n",
      "0.041895, 0.065633\n",
      "0.042966, 0.064240\n",
      "0.040352, 0.061141\n",
      "0.043039, 0.070465\n",
      "0.047204, 0.058885\n",
      "0.043713, 0.064833\n",
      "0.041333, 0.060793\n",
      "0.042316, 0.058031\n",
      "0.044994, 0.063521\n",
      "0.042905, 0.090654\n",
      "0.040582, 0.060081\n",
      "0.043027, 0.067997\n",
      "0.039469, 0.058672\n",
      "0.044263, 0.058741\n",
      "0.044688, 0.082133\n",
      "0.044252, 0.060049\n",
      "0.040924, 0.067037\n",
      "0.039683, 0.060459\n",
      "0.040531, 0.060724\n",
      "0.041874, 0.063526\n",
      "0.039941, 0.059822\n",
      "0.040925, 0.060309\n",
      "0.042746, 0.069924\n",
      "0.044103, 0.054461\n",
      "0.040983, 0.063056\n"
     ]
    }
   ],
   "source": [
    "NUM_EPOCHS = 70\n",
    "BEST_MODEL_PATH = 'best_steering_model_xy.pth'\n",
    "best_loss = 1e9\n",
    "\n",
    "optimizer = optim.Adam(model.parameters())\n",
    "\n",
    "for epoch in range(NUM_EPOCHS):\n",
    "    \n",
    "    model.train()\n",
    "    train_loss = 0.0\n",
    "    for images, labels in iter(train_loader):\n",
    "        images = images.to(device)\n",
    "        labels = labels.to(device)\n",
    "        optimizer.zero_grad()\n",
    "        outputs = model(images)\n",
    "        loss = F.mse_loss(outputs, labels)\n",
    "        train_loss += float(loss)\n",
    "        loss.backward()\n",
    "        optimizer.step()\n",
    "    train_loss /= len(train_loader)\n",
    "    \n",
    "    model.eval()\n",
    "    test_loss = 0.0\n",
    "    for images, labels in iter(test_loader):\n",
    "        images = images.to(device)\n",
    "        labels = labels.to(device)\n",
    "        outputs = model(images)\n",
    "        loss = F.mse_loss(outputs, labels)\n",
    "        test_loss += float(loss)\n",
    "    test_loss /= len(test_loader)\n",
    "    \n",
    "    print('%f, %f' % (train_loss, test_loss))\n",
    "    if test_loss < best_loss:\n",
    "        torch.save(model.state_dict(), BEST_MODEL_PATH)\n",
    "        best_loss = test_loss\n"
   ]
  },
  {
   "cell_type": "code",
   "execution_count": null,
   "id": "above-cheese",
   "metadata": {},
   "outputs": [],
   "source": []
  },
  {
   "cell_type": "code",
   "execution_count": null,
   "id": "organizational-finger",
   "metadata": {},
   "outputs": [],
   "source": []
  }
 ],
 "metadata": {
  "kernelspec": {
   "display_name": "Python 3",
   "language": "python",
   "name": "python3"
  },
  "language_info": {
   "codemirror_mode": {
    "name": "ipython",
    "version": 3
   },
   "file_extension": ".py",
   "mimetype": "text/x-python",
   "name": "python",
   "nbconvert_exporter": "python",
   "pygments_lexer": "ipython3",
   "version": "3.6.9"
  }
 },
 "nbformat": 4,
 "nbformat_minor": 5
}
